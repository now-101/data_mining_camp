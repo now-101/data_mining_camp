{
 "cells": [
  {
   "cell_type": "markdown",
   "metadata": {},
   "source": [
    "# 特征工程\n",
    "- 特征衍生\n",
    "- 特征挑选：分别用IV值和随机森林等进行特征选择\n",
    "- 以及你能想到特征工程处理"
   ]
  },
  {
   "cell_type": "markdown",
   "metadata": {},
   "source": [
    "### 一、特征衍生\n",
    "特征衍生又叫特征构建，特征衍生是现有的特征进行某种组合，生成新的具有含义的特征。\n",
    "通常我们采集到数据的特征维度不会很大，而且直接采集到的特征并不能完全体现数据的全部信息，需要通过已有的数据组合来发现新的意义。"
   ]
  },
  {
   "cell_type": "markdown",
   "metadata": {},
   "source": [
    "可以通过一个例子来说明：\n",
    "\n",
    "https://www.jianshu.com/p/c7508915a2e1\n",
    "\n",
    "http://www.ishenping.com/ArtInfo/1190627.html\n",
    "\n",
    "找到可以拓展的基础特征后，可用如下集中方式进行衍生特征：\n",
    "- 特征扩展\n",
    "- 合成特征\n",
    "- 特征组合\n",
    "- 特征交叉"
   ]
  },
  {
   "cell_type": "markdown",
   "metadata": {},
   "source": [
    "### 二、特征选择"
   ]
  },
  {
   "cell_type": "code",
   "execution_count": null,
   "metadata": {},
   "outputs": [],
   "source": []
  }
 ],
 "metadata": {
  "kernelspec": {
   "display_name": "tf",
   "language": "python",
   "name": "tf"
  },
  "language_info": {
   "codemirror_mode": {
    "name": "ipython",
    "version": 3
   },
   "file_extension": ".py",
   "mimetype": "text/x-python",
   "name": "python",
   "nbconvert_exporter": "python",
   "pygments_lexer": "ipython3",
   "version": "3.6.8"
  }
 },
 "nbformat": 4,
 "nbformat_minor": 2
}
