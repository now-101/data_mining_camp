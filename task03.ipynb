{
 "cells": [
  {
   "cell_type": "markdown",
   "metadata": {},
   "source": [
    "## 数据挖掘实践任务\n",
    "任务描述\n",
    "\n",
    "- 用逻辑回归、svm和决策树、随机森林和XGBoost进行模型构建（不需考虑调参）\n",
    "\n",
    "ref:https://github.com/lizoo6zhi/Datawhale/blob/master/DataMining/Task3.ipynb"
   ]
  },
  {
   "cell_type": "code",
   "execution_count": 110,
   "metadata": {},
   "outputs": [
    {
     "name": "stdout",
     "output_type": "stream",
     "text": [
      "features shape:(4455, 50), labels shape:(4455,)\n"
     ]
    }
   ],
   "source": [
    "# 获取经过task02中特征选择处理过的数据集\n",
    "import pandas as pd\n",
    "dataset = pd.read_csv('./dataset/task2_proc.csv')\n",
    "features = dataset.iloc[:, :-1]\n",
    "labels = dataset.iloc[:, -1]\n",
    "print('features shape:{}, labels shape:{}'.format(features.shape, labels.shape))"
   ]
  },
  {
   "cell_type": "code",
   "execution_count": 111,
   "metadata": {},
   "outputs": [],
   "source": [
    "# 数据拆分\n",
    "from sklearn.model_selection import train_test_split\n",
    "from sklearn.preprocessing import StandardScaler\n",
    "\n",
    "\n",
    "random_state=2018    # 后面会多次用到，故设置一个变量\n",
    "\n",
    "x_train, x_test, y_train, y_test = train_test_split(features, labels, test_size=0.3,\n",
    "                                                    random_state=2018)\n",
    "\n",
    "# 对训练集进行标准话处理\n",
    "scaler = StandardScaler()\n",
    "x_train_scale = scaler.fit_transform(x_train)\n",
    "x_test_scale = scaler.fit_transform(x_test)"
   ]
  },
  {
   "cell_type": "code",
   "execution_count": 112,
   "metadata": {},
   "outputs": [],
   "source": [
    "model_score_train = []\n",
    "decision_score_train = []\n",
    "model_score_test = []\n",
    "decision_score_test = []\n",
    "\n",
    "def proc_score(y_pred, y_pred_scores, y_test, train=True):\n",
    "    accuracy = accuracy_score(y_test, y_pred)\n",
    "    precision = precision_score(y_test, y_pred)\n",
    "    recall = recall_score(y_test, y_pred)\n",
    "    f1 = f1_score(y_test, y_pred)\n",
    "    roc_auc = roc_auc_score(y_test, y_pred)\n",
    "    \n",
    "    if train:\n",
    "        decision_score_train.append(y_pred_scores)\n",
    "        model_score_train.append([accuracy, precision, recall, f1, roc_auc])\n",
    "        text = 'Train'\n",
    "    else:\n",
    "        decision_score_test.append(y_pred_scores)\n",
    "        model_score_test.append([accuracy, precision, recall, f1, roc_auc])\n",
    "        text = 'Test'\n",
    "    \n",
    "    print('{}: accuracy_score:{:.3f}, precision_score:{:.3f}, recall_score:{:.3f}, f1_score:{:.3f}, roc_auc_score:{:.3f}'.format(\n",
    "    text, accuracy, precision, recall, f1, roc_auc))"
   ]
  },
  {
   "cell_type": "code",
   "execution_count": 113,
   "metadata": {},
   "outputs": [],
   "source": [
    "from sklearn.linear_model import LogisticRegression    # 逻辑回归 \n",
    "from sklearn.svm import SVC    # SVM 支持向量机\n",
    "from sklearn.tree import DecisionTreeClassifier   # 决策树\n",
    "from sklearn.ensemble import RandomForestClassifier   # 随机森林分类器\n",
    "from sklearn.model_selection import RandomizedSearchCV, cross_val_predict  #  随机搜索，交叉验证\n",
    "#　https://www.cnblogs.com/jiaxin359/p/8552800.html\n",
    "from scipy.stats import uniform    # 标准均匀分布\n",
    "from sklearn.metrics import accuracy_score, precision_score, recall_score, f1_score, roc_auc_score, roc_curve\n",
    "import matplotlib.pyplot as plt"
   ]
  },
  {
   "cell_type": "markdown",
   "metadata": {},
   "source": [
    "## 逻辑回归"
   ]
  },
  {
   "cell_type": "code",
   "execution_count": 114,
   "metadata": {},
   "outputs": [
    {
     "name": "stdout",
     "output_type": "stream",
     "text": [
      "Fitting 3 folds for each of 100 candidates, totalling 300 fits\n"
     ]
    },
    {
     "name": "stderr",
     "output_type": "stream",
     "text": [
      "[Parallel(n_jobs=-1)]: Using backend LokyBackend with 16 concurrent workers.\n",
      "[Parallel(n_jobs=-1)]: Done   9 tasks      | elapsed:    0.9s\n",
      "[Parallel(n_jobs=-1)]: Done 130 tasks      | elapsed:    2.0s\n",
      "[Parallel(n_jobs=-1)]: Done 300 out of 300 | elapsed:    3.5s finished\n"
     ]
    }
   ],
   "source": [
    "param_distributions = {'C':uniform(0,10)}\n",
    "rs_clf  = RandomizedSearchCV(LogisticRegression(solver='liblinear'), \n",
    "                             param_distributions=param_distributions, \n",
    "                             cv=3,    # \n",
    "                             n_iter=100,\n",
    "                             random_state=random_state,\n",
    "                             verbose=2, # verbose是控制日志输出，0无输出，1简化输出，2详细输出\n",
    "                             n_jobs=-1\n",
    "                            )\n",
    "rs_clf.fit(x_train_scale, y_train)\n",
    "logistic = rs_clf.best_estimator_"
   ]
  },
  {
   "cell_type": "code",
   "execution_count": 115,
   "metadata": {},
   "outputs": [
    {
     "name": "stdout",
     "output_type": "stream",
     "text": [
      "Train: accuracy_score:0.799, precision_score:0.713, recall_score:0.355, f1_score:0.474, roc_auc_score:0.653\n",
      "Test: accuracy_score:0.791, precision_score:0.624, recall_score:0.349, f1_score:0.448, roc_auc_score:0.641\n"
     ]
    }
   ],
   "source": [
    "y_pred = logistic.predict(x_train_scale)\n",
    "y_pred_scores = cross_val_predict(logistic, \n",
    "                                  x_train_scale, \n",
    "                                  y_train, \n",
    "                                  cv=5,    # integer, to specify the number of folds in a (Stratified)KFold,\n",
    "                                  method='decision_function'\n",
    "                                  # method : string, optional, default: ‘predict’\n",
    "                                 )\n",
    "# 使用sklearn进行模型交叉验证：  https://www.cnblogs.com/jiaxin359/p/8552800.html\n",
    "proc_score(y_pred, y_pred_scores, y_train, train=True)\n",
    "\n",
    "y_pred = logistic.predict(x_test_scale)\n",
    "y_pred_scores = cross_val_predict(logistic, x_test_scale, y_test, cv=5,\n",
    "                                  method='decision_function')\n",
    "proc_score(y_pred, y_pred_scores, y_test, train=False)"
   ]
  },
  {
   "cell_type": "markdown",
   "metadata": {},
   "source": [
    "## SVM"
   ]
  },
  {
   "cell_type": "code",
   "execution_count": 116,
   "metadata": {},
   "outputs": [
    {
     "name": "stderr",
     "output_type": "stream",
     "text": [
      "[Parallel(n_jobs=-1)]: Using backend LokyBackend with 16 concurrent workers.\n"
     ]
    },
    {
     "name": "stdout",
     "output_type": "stream",
     "text": [
      "Fitting 3 folds for each of 100 candidates, totalling 300 fits\n"
     ]
    },
    {
     "name": "stderr",
     "output_type": "stream",
     "text": [
      "[Parallel(n_jobs=-1)]: Done   9 tasks      | elapsed:    2.4s\n",
      "[Parallel(n_jobs=-1)]: Done 130 tasks      | elapsed:   19.2s\n",
      "[Parallel(n_jobs=-1)]: Done 300 out of 300 | elapsed:   42.6s finished\n"
     ]
    },
    {
     "data": {
      "text/plain": [
       "RandomizedSearchCV(cv=3, error_score='raise-deprecating',\n",
       "                   estimator=SVC(C=1.0, cache_size=200, class_weight=None,\n",
       "                                 coef0=0.0, decision_function_shape='ovr',\n",
       "                                 degree=3, gamma='auto_deprecated',\n",
       "                                 kernel='linear', max_iter=-1,\n",
       "                                 probability=False, random_state=None,\n",
       "                                 shrinking=True, tol=0.001, verbose=False),\n",
       "                   iid='warn', n_iter=100, n_jobs=-1,\n",
       "                   param_distributions={'C': <scipy.stats._distn_infrastructure.rv_frozen object at 0x7fee9bad8a20>},\n",
       "                   pre_dispatch='2*n_jobs', random_state=2018, refit=True,\n",
       "                   return_train_score=False, scoring=None, verbose=2)"
      ]
     },
     "execution_count": 116,
     "metadata": {},
     "output_type": "execute_result"
    }
   ],
   "source": [
    "param_distributions = {'C':uniform(0,10)}\n",
    "rs_clf = RandomizedSearchCV(SVC(kernel='linear'),\n",
    "                            param_distributions=param_distributions,\n",
    "                            cv=3,\n",
    "                            n_iter=100,\n",
    "                            random_state=random_state,\n",
    "                            verbose=2,\n",
    "                            n_jobs=-1\n",
    "                           )\n",
    "rs_clf.fit(x_train_scale, y_train)"
   ]
  },
  {
   "cell_type": "code",
   "execution_count": 117,
   "metadata": {},
   "outputs": [
    {
     "name": "stdout",
     "output_type": "stream",
     "text": [
      "Train: accuracy_score:0.789, precision_score:0.779, recall_score:0.243, f1_score:0.371, roc_auc_score:0.610\n",
      "Test: accuracy_score:0.791, precision_score:0.696, recall_score:0.241, f1_score:0.358, roc_auc_score:0.604\n"
     ]
    }
   ],
   "source": [
    "svc = rs_clf.best_estimator_\n",
    "\n",
    "y_pred = svc.predict(x_train_scale)\n",
    "y_pred_scores = cross_val_predict(svc, x_train_scale, y_train,cv=3,\n",
    "                                 method='decision_function')\n",
    "proc_score(y_pred, y_pred_scores, y_train, train=True)\n",
    "\n",
    "y_pred = svc.predict(x_test_scale)\n",
    "y_pred_scores = cross_val_predict(svc, x_test_scale, y_test, cv=3,\n",
    "                                 method='decision_function')\n",
    "proc_score(y_pred, y_pred_scores, y_test, train=False)"
   ]
  },
  {
   "cell_type": "markdown",
   "metadata": {},
   "source": [
    "## 决策树"
   ]
  },
  {
   "cell_type": "code",
   "execution_count": 118,
   "metadata": {},
   "outputs": [
    {
     "data": {
      "text/plain": [
       "DecisionTreeClassifier(class_weight=None, criterion='gini', max_depth=8,\n",
       "                       max_features=None, max_leaf_nodes=None,\n",
       "                       min_impurity_decrease=0.0, min_impurity_split=None,\n",
       "                       min_samples_leaf=1, min_samples_split=2,\n",
       "                       min_weight_fraction_leaf=0.0, presort=False,\n",
       "                       random_state=None, splitter='best')"
      ]
     },
     "execution_count": 118,
     "metadata": {},
     "output_type": "execute_result"
    }
   ],
   "source": [
    "dt_clf = DecisionTreeClassifier(max_depth=8)\n",
    "dt_clf.fit(x_train_scale, y_train)"
   ]
  },
  {
   "cell_type": "code",
   "execution_count": 119,
   "metadata": {},
   "outputs": [
    {
     "name": "stdout",
     "output_type": "stream",
     "text": [
      "Train: accuracy_score:0.893, precision_score:0.883, recall_score:0.671, f1_score:0.763, roc_auc_score:0.820\n",
      "Test: accuracy_score:0.755, precision_score:0.492, recall_score:0.404, f1_score:0.444, roc_auc_score:0.636\n"
     ]
    }
   ],
   "source": [
    "\n",
    "y_pred = dt_clf.predict(x_train_scale)\n",
    "y_pred_scores = cross_val_predict(dt_clf,x_train_scale,y_train,cv=5,\n",
    "                                method='predict_proba')\n",
    "proc_score(y_pred,y_pred_scores[:,1],y_train,train=True)\n",
    "\n",
    "y_pred = dt_clf.predict(x_test_scale)\n",
    "y_pred_scores = cross_val_predict(dt_clf,x_test_scale,y_test,cv=5,\n",
    "                                method='predict_proba')\n",
    "proc_score(y_pred,y_pred_scores[:,1],y_test,train=False)"
   ]
  },
  {
   "cell_type": "markdown",
   "metadata": {},
   "source": [
    "## 随机森林"
   ]
  },
  {
   "cell_type": "code",
   "execution_count": 120,
   "metadata": {},
   "outputs": [
    {
     "data": {
      "text/plain": [
       "0.7957023733162284"
      ]
     },
     "execution_count": 120,
     "metadata": {},
     "output_type": "execute_result"
    }
   ],
   "source": [
    "rf_clf = RandomForestClassifier(n_estimators=1000,  # 也就是弱学习器的最大迭代次数，或者说最大的弱学习器的个数\n",
    "                                criterion='gini',  # criterion: 即CART树做划分时对特征的评价标准\n",
    "                                oob_score=True,  # oob_score :即是否采用袋外样本来评估模型的好坏\n",
    "                                random_state=random_state,\n",
    "                                verbose=0, \n",
    "                                n_jobs=-1\n",
    "                               )\n",
    "rf_clf.fit(x_train_scale, y_train)\n",
    "rf_clf.oob_score_"
   ]
  },
  {
   "cell_type": "code",
   "execution_count": 121,
   "metadata": {},
   "outputs": [
    {
     "name": "stdout",
     "output_type": "stream",
     "text": [
      "Train: accuracy_score:1.000, precision_score:1.000, recall_score:1.000, f1_score:1.000, roc_auc_score:1.000\n",
      "Test: accuracy_score:0.802, precision_score:0.712, recall_score:0.306, f1_score:0.428, roc_auc_score:0.633\n"
     ]
    }
   ],
   "source": [
    "y_pred = rf_clf.predict(x_train_scale)\n",
    "y_pred_scores = cross_val_predict(rf_clf,x_train_scale,y_train,cv=5,\n",
    "                                method='predict_proba')\n",
    "proc_score(y_pred,y_pred_scores[:,1],y_train,train=True)\n",
    "\n",
    "y_pred = rf_clf.predict(x_test_scale)\n",
    "y_pred_scores = cross_val_predict(rf_clf,x_test_scale,y_test,cv=5,\n",
    "                                method='predict_proba')\n",
    "proc_score(y_pred,y_pred_scores[:,1],y_test,train=False)"
   ]
  },
  {
   "cell_type": "markdown",
   "metadata": {},
   "source": [
    "## XGBoost"
   ]
  },
  {
   "cell_type": "code",
   "execution_count": 122,
   "metadata": {},
   "outputs": [
    {
     "data": {
      "text/plain": [
       "XGBClassifier(base_score=0.5, booster='gbtree', colsample_bylevel=1,\n",
       "              colsample_bytree=1, gamma=0, learning_rate=0.1, max_delta_step=0,\n",
       "              max_depth=3, min_child_weight=1, missing=None, n_estimators=100,\n",
       "              n_jobs=1, nthread=None, objective='binary:logistic',\n",
       "              random_state=0, reg_alpha=0, reg_lambda=1, scale_pos_weight=1,\n",
       "              seed=None, silent=True, subsample=1)"
      ]
     },
     "execution_count": 122,
     "metadata": {},
     "output_type": "execute_result"
    }
   ],
   "source": [
    "from xgboost import XGBClassifier\n",
    "xgb = XGBClassifier()\n",
    "xgb.fit(x_train_scale, y_train)"
   ]
  },
  {
   "cell_type": "code",
   "execution_count": 123,
   "metadata": {},
   "outputs": [
    {
     "name": "stdout",
     "output_type": "stream",
     "text": [
      "Train: accuracy_score:0.846, precision_score:0.843, recall_score:0.491, f1_score:0.620, roc_auc_score:0.730\n",
      "Test: accuracy_score:0.806, precision_score:0.707, recall_score:0.343, f1_score:0.462, roc_auc_score:0.649\n"
     ]
    }
   ],
   "source": [
    "y_pred = xgb.predict(x_train_scale)\n",
    "y_pred_scores = cross_val_predict(xgb,x_train_scale,y_train,cv=5,\n",
    "                                method='predict_proba')\n",
    "proc_score(y_pred,y_pred_scores[:,1],y_train,train=True)\n",
    "\n",
    "y_pred = xgb.predict(x_test_scale)\n",
    "y_pred_scores = cross_val_predict(xgb,x_test_scale,y_test,cv=5,\n",
    "                                method='predict_proba')\n",
    "proc_score(y_pred,y_pred_scores[:,1],y_test,train=False)"
   ]
  },
  {
   "cell_type": "markdown",
   "metadata": {},
   "source": [
    "## 对个模型进行比较"
   ]
  },
  {
   "cell_type": "code",
   "execution_count": 126,
   "metadata": {
    "scrolled": true
   },
   "outputs": [
    {
     "data": {
      "text/html": [
       "<div>\n",
       "<style scoped>\n",
       "    .dataframe tbody tr th:only-of-type {\n",
       "        vertical-align: middle;\n",
       "    }\n",
       "\n",
       "    .dataframe tbody tr th {\n",
       "        vertical-align: top;\n",
       "    }\n",
       "\n",
       "    .dataframe thead th {\n",
       "        text-align: right;\n",
       "    }\n",
       "</style>\n",
       "<table border=\"1\" class=\"dataframe\">\n",
       "  <thead>\n",
       "    <tr style=\"text-align: right;\">\n",
       "      <th></th>\n",
       "      <th></th>\n",
       "      <th>accuracy_score</th>\n",
       "      <th>precision_score</th>\n",
       "      <th>recall_score</th>\n",
       "      <th>f1_score</th>\n",
       "      <th>roc_auc_score</th>\n",
       "    </tr>\n",
       "  </thead>\n",
       "  <tbody>\n",
       "    <tr>\n",
       "      <th rowspan=\"2\" valign=\"top\">Logistic</th>\n",
       "      <th>train</th>\n",
       "      <td>0.798589</td>\n",
       "      <td>0.712846</td>\n",
       "      <td>0.355082</td>\n",
       "      <td>0.474037</td>\n",
       "      <td>0.652982</td>\n",
       "    </tr>\n",
       "    <tr>\n",
       "      <th>test</th>\n",
       "      <td>0.791324</td>\n",
       "      <td>0.624309</td>\n",
       "      <td>0.348765</td>\n",
       "      <td>0.447525</td>\n",
       "      <td>0.640819</td>\n",
       "    </tr>\n",
       "    <tr>\n",
       "      <th rowspan=\"2\" valign=\"top\">SVM</th>\n",
       "      <th>train</th>\n",
       "      <td>0.788967</td>\n",
       "      <td>0.779116</td>\n",
       "      <td>0.243413</td>\n",
       "      <td>0.370937</td>\n",
       "      <td>0.609858</td>\n",
       "    </tr>\n",
       "    <tr>\n",
       "      <th>test</th>\n",
       "      <td>0.790576</td>\n",
       "      <td>0.696429</td>\n",
       "      <td>0.240741</td>\n",
       "      <td>0.357798</td>\n",
       "      <td>0.603589</td>\n",
       "    </tr>\n",
       "    <tr>\n",
       "      <th rowspan=\"2\" valign=\"top\">DecisionTree</th>\n",
       "      <th>train</th>\n",
       "      <td>0.893201</td>\n",
       "      <td>0.882838</td>\n",
       "      <td>0.671267</td>\n",
       "      <td>0.762651</td>\n",
       "      <td>0.820338</td>\n",
       "    </tr>\n",
       "    <tr>\n",
       "      <th>test</th>\n",
       "      <td>0.754675</td>\n",
       "      <td>0.492481</td>\n",
       "      <td>0.404321</td>\n",
       "      <td>0.444068</td>\n",
       "      <td>0.635527</td>\n",
       "    </tr>\n",
       "    <tr>\n",
       "      <th rowspan=\"2\" valign=\"top\">RandomForest</th>\n",
       "      <th>train</th>\n",
       "      <td>1.000000</td>\n",
       "      <td>1.000000</td>\n",
       "      <td>1.000000</td>\n",
       "      <td>1.000000</td>\n",
       "      <td>1.000000</td>\n",
       "    </tr>\n",
       "    <tr>\n",
       "      <th>test</th>\n",
       "      <td>0.801795</td>\n",
       "      <td>0.712230</td>\n",
       "      <td>0.305556</td>\n",
       "      <td>0.427646</td>\n",
       "      <td>0.633034</td>\n",
       "    </tr>\n",
       "    <tr>\n",
       "      <th rowspan=\"2\" valign=\"top\">XGBoost</th>\n",
       "      <th>train</th>\n",
       "      <td>0.846376</td>\n",
       "      <td>0.842672</td>\n",
       "      <td>0.490590</td>\n",
       "      <td>0.620143</td>\n",
       "      <td>0.729569</td>\n",
       "    </tr>\n",
       "    <tr>\n",
       "      <th>test</th>\n",
       "      <td>0.806283</td>\n",
       "      <td>0.707006</td>\n",
       "      <td>0.342593</td>\n",
       "      <td>0.461538</td>\n",
       "      <td>0.648591</td>\n",
       "    </tr>\n",
       "  </tbody>\n",
       "</table>\n",
       "</div>"
      ],
      "text/plain": [
       "                    accuracy_score  precision_score  ...  f1_score  roc_auc_score\n",
       "Logistic     train        0.798589         0.712846  ...  0.474037       0.652982\n",
       "             test         0.791324         0.624309  ...  0.447525       0.640819\n",
       "SVM          train        0.788967         0.779116  ...  0.370937       0.609858\n",
       "             test         0.790576         0.696429  ...  0.357798       0.603589\n",
       "DecisionTree train        0.893201         0.882838  ...  0.762651       0.820338\n",
       "             test         0.754675         0.492481  ...  0.444068       0.635527\n",
       "RandomForest train        1.000000         1.000000  ...  1.000000       1.000000\n",
       "             test         0.801795         0.712230  ...  0.427646       0.633034\n",
       "XGBoost      train        0.846376         0.842672  ...  0.620143       0.729569\n",
       "             test         0.806283         0.707006  ...  0.461538       0.648591\n",
       "\n",
       "[10 rows x 5 columns]"
      ]
     },
     "execution_count": 126,
     "metadata": {},
     "output_type": "execute_result"
    }
   ],
   "source": [
    "model_name = ['Logistic', 'SVM', 'DecisionTree', 'RandomForest', 'XGBoost']\n",
    "columns = ['accuracy_score', 'precision_score', 'recall_score', 'f1_score', 'roc_auc_score']\n",
    "types = ['train', 'test']\n",
    "pd_list = []\n",
    "\n",
    "for train,test in zip(model_score_train,model_score_test):\n",
    "    pd_list.append(pd.DataFrame([train,test],index=types,columns=columns))\n",
    "    \n",
    "pd.concat(pd_list, axis=0, keys=model_name) "
   ]
  },
  {
   "cell_type": "code",
   "execution_count": 125,
   "metadata": {},
   "outputs": [
    {
     "data": {
      "image/png": "[encoded data removed]",
      "text/plain": [
       "<Figure size 576x360 with 1 Axes>"
      ]
     },
     "metadata": {
      "needs_background": "light"
     },
     "output_type": "display_data"
    }
   ],
   "source": [
    "\n",
    "# 绘制ROC取下对比图\n",
    "def plot_roc_curve(fpr,tpr,label=None):\n",
    "    plt.plot(fpr,tpr,linewidth=2,label=label)\n",
    "    plt.plot([0,1],[0,1],'k--')\n",
    "\n",
    "for score,label in zip(decision_score_test,model_name):\n",
    "    fpr,tpr,threshold = roc_curve(y_test,score)\n",
    "    plot_roc_curve(fpr,tpr,label)\n",
    "plt.rcParams['figure.figsize'] = (8,5)    \n",
    "plt.axis([0,1,0,1])\n",
    "plt.xlabel('False Position Rate')\n",
    "plt.ylabel('False Position Rate')\n",
    "plt.legend()\n",
    "plt.show()"
   ]
  },
  {
   "cell_type": "code",
   "execution_count": null,
   "metadata": {},
   "outputs": [],
   "source": []
  }
 ],
 "metadata": {
  "kernelspec": {
   "display_name": "tf",
   "language": "python",
   "name": "tf"
  },
  "language_info": {
   "codemirror_mode": {
    "name": "ipython",
    "version": 3
   },
   "file_extension": ".py",
   "mimetype": "text/x-python",
   "name": "python",
   "nbconvert_exporter": "python",
   "pygments_lexer": "ipython3",
   "version": "3.6.8"
  }
 },
 "nbformat": 4,
 "nbformat_minor": 2
}
