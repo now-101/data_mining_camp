{
 "cells": [
  {
   "cell_type": "markdown",
   "metadata": {},
   "source": [
    "## 数据挖掘实践任务\n",
    "任务描述\n",
    "\n",
    "- 用逻辑回归、svm和决策树、随机森林和XGBoost进行模型构建（不需考虑调参）"
   ]
  },
  {
   "cell_type": "code",
   "execution_count": 68,
   "metadata": {},
   "outputs": [
    {
     "name": "stdout",
     "output_type": "stream",
     "text": [
      "features shape:(4455, 50), labels shape:(4455,)\n"
     ]
    }
   ],
   "source": [
    "# 获取经过task02中特征选择处理过的数据集\n",
    "import pandas as pd\n",
    "dataset = pd.read_csv('./dataset/task2_proc.csv')\n",
    "features = dataset.iloc[:, :-1]\n",
    "labels = dataset.iloc[:, -1]\n",
    "print('features shape:{}, labels shape:{}'.format(features.shape, labels.shape))"
   ]
  },
  {
   "cell_type": "code",
   "execution_count": 69,
   "metadata": {},
   "outputs": [],
   "source": [
    "# 数据拆分\n",
    "from sklearn.model_selection import train_test_split\n",
    "from sklearn.preprocessing import StandardScaler\n",
    "\n",
    "\n",
    "random_state=2018    # 后面会多次用到，故设置一个变量\n",
    "\n",
    "x_train, x_test, y_train, y_test = train_test_split(features, labels, test_size=0.3,\n",
    "                                                    random_state=2018)\n",
    "\n",
    "# 对训练集进行标准话处理\n",
    "scaler = StandardScaler()\n",
    "x_train_scale = scaler.fit_transform(x_train)\n",
    "x_test_scale = scaler.fit_transform(x_test)"
   ]
  },
  {
   "cell_type": "code",
   "execution_count": 70,
   "metadata": {},
   "outputs": [],
   "source": [
    "from sklearn.linear_model import LogisticRegression    # 逻辑回归 \n",
    "from sklearn.svm import SVC    # SVM 支持向量机\n",
    "from sklearn.tree import DecisionTreeClassifier   # 决策树\n",
    "from sklearn.ensemble import RandomForestClassifier   # 随机森林分类器\n",
    "from sklearn.model_selection import RandomizedSearchCV, cross_val_predict  #  随机搜索，交叉验证\n",
    "#　https://www.cnblogs.com/jiaxin359/p/8552800.html\n",
    "from scipy.stats import uniform    # 标准均匀分布\n",
    "from sklearn.metrics import accuracy_score, precision_score, recall_score, f1_score, roc_auc_score, roc_curve\n",
    "import matplotlib.pyplot as plt"
   ]
  },
  {
   "cell_type": "code",
   "execution_count": 71,
   "metadata": {},
   "outputs": [],
   "source": [
    "model_score_train = []\n",
    "decision_score_train = []\n",
    "model_score_test = []\n",
    "decision_score_test = []\n",
    "\n",
    "def proc_score(y_pred, y_pred_scores, y_test, train=True):\n",
    "    accuracy = accuracy_score(y_test, y_pred)\n",
    "    precision = precision_score(y_test, y_pred)\n",
    "    recall = recall_score(y_test, y_pred)\n",
    "    f1 = f1_score(y_test, y_pred)\n",
    "    roc_auc = roc_auc_score(y_test, y_pred)\n",
    "    \n",
    "    if train:\n",
    "        decision_score_train.append(y_pred_scores)\n",
    "        model_score_train.append([accuracy, precision, recall, roc_auc])\n",
    "        text = 'Train'\n",
    "    else:\n",
    "        decision_score_test.append(y_pred_scores)\n",
    "        model_score_test.append([accuracy, precision, recall, roc_auc])\n",
    "        text = 'Test'\n",
    "    \n",
    "    print('{}: accuracy_score:{:.3f}, precision_score:{:.3f}, recall_score:{:.3f}, f1_score:{:.3f}, roc_auc_score:{:.3f}'.format(\n",
    "    text, accuracy, precision, recall, f1, roc_auc))"
   ]
  },
  {
   "cell_type": "markdown",
   "metadata": {},
   "source": [
    "## 逻辑回归"
   ]
  },
  {
   "cell_type": "code",
   "execution_count": 72,
   "metadata": {},
   "outputs": [
    {
     "name": "stdout",
     "output_type": "stream",
     "text": [
      "Fitting 3 folds for each of 100 candidates, totalling 300 fits\n"
     ]
    },
    {
     "name": "stderr",
     "output_type": "stream",
     "text": [
      "[Parallel(n_jobs=-1)]: Using backend LokyBackend with 16 concurrent workers.\n",
      "[Parallel(n_jobs=-1)]: Done   9 tasks      | elapsed:    0.8s\n",
      "[Parallel(n_jobs=-1)]: Done 130 tasks      | elapsed:    2.0s\n",
      "[Parallel(n_jobs=-1)]: Done 300 out of 300 | elapsed:    3.6s finished\n"
     ]
    }
   ],
   "source": [
    "param_distributions = {'C':uniform(0,10)}\n",
    "rs_clf  = RandomizedSearchCV(LogisticRegression(solver='liblinear'), \n",
    "                             param_distributions=param_distributions, \n",
    "                             cv=3,    # \n",
    "                             n_iter=100,\n",
    "                             random_state=random_state,\n",
    "                             verbose=2, # verbose是控制日志输出，0无输出，1简化输出，2详细输出\n",
    "                             n_jobs=-1\n",
    "                            )\n",
    "rs_clf.fit(x_train_scale, y_train)\n",
    "logistic = rs_clf.best_estimator_"
   ]
  },
  {
   "cell_type": "code",
   "execution_count": 73,
   "metadata": {},
   "outputs": [
    {
     "name": "stdout",
     "output_type": "stream",
     "text": [
      "Train: accuracy_score:0.799, precision_score:0.713, recall_score:0.355, f1_score:0.474, roc_auc_score:0.653\n",
      "Test: accuracy_score:0.791, precision_score:0.624, recall_score:0.349, f1_score:0.448, roc_auc_score:0.641\n"
     ]
    }
   ],
   "source": [
    "y_pred = logistic.predict(x_train_scale)\n",
    "y_pred_scores = cross_val_predict(logistic, \n",
    "                                  x_train_scale, \n",
    "                                  y_train, \n",
    "                                  cv=5,    # integer, to specify the number of folds in a (Stratified)KFold,\n",
    "                                  method='decision_function'\n",
    "                                  # method : string, optional, default: ‘predict’\n",
    "                                 )\n",
    "# 使用sklearn进行模型交叉验证：  https://www.cnblogs.com/jiaxin359/p/8552800.html\n",
    "proc_score(y_pred, y_pred_scores, y_train, train=True)\n",
    "\n",
    "y_pred = logistic.predict(x_test_scale)\n",
    "y_pred_scores = cross_val_predict(logistic, x_test_scale, y_test, cv=5,\n",
    "                                  method='decision_function')\n",
    "proc_score(y_pred, y_pred_scores, y_test, train=False)"
   ]
  },
  {
   "cell_type": "markdown",
   "metadata": {},
   "source": [
    "## SVM"
   ]
  },
  {
   "cell_type": "code",
   "execution_count": null,
   "metadata": {},
   "outputs": [
    {
     "name": "stderr",
     "output_type": "stream",
     "text": [
      "[Parallel(n_jobs=-1)]: Using backend LokyBackend with 16 concurrent workers.\n"
     ]
    },
    {
     "name": "stdout",
     "output_type": "stream",
     "text": [
      "Fitting 3 folds for each of 100 candidates, totalling 300 fits\n"
     ]
    },
    {
     "name": "stderr",
     "output_type": "stream",
     "text": [
      "[Parallel(n_jobs=-1)]: Done   9 tasks      | elapsed:    2.4s\n"
     ]
    }
   ],
   "source": [
    "param_distributions = {'C':uniform(0,10)}\n",
    "rs_clf = RandomizedSearchCV(SVC(kernel='linear'),\n",
    "                            param_distributions=param_distributions,\n",
    "                            cv=3,\n",
    "                            n_iter=100,\n",
    "                            random_state=random_state,\n",
    "                            verbose=2,\n",
    "                            n_jobs=-1\n",
    "                           )\n",
    "rs_clf.fit(x_train_scale, y_train)"
   ]
  },
  {
   "cell_type": "code",
   "execution_count": null,
   "metadata": {},
   "outputs": [],
   "source": [
    "svc = rs_clf.best_estimator_\n",
    "\n",
    "y_pred = svc.predict(x_train_scale)\n",
    "y_pred_scores = cross_val_predict(svc, x_train_scale, y_train,cv=3,\n",
    "                                 method='decision_function')\n",
    "proc_score(y_pred, y_pred_scores, y_train, train=True)\n",
    "\n",
    "y_pred = svc.predict(x_test_scale)\n",
    "y_pred_scores = cross_val_predict(svc, x_test_scale, y_test, cv=3,\n",
    "                                 method='decision_function')\n",
    "proc_score(y_pred, y_pred_scores, y_test, train=False)"
   ]
  },
  {
   "cell_type": "markdown",
   "metadata": {},
   "source": [
    "## 决策树"
   ]
  },
  {
   "cell_type": "code",
   "execution_count": null,
   "metadata": {},
   "outputs": [],
   "source": [
    "dt_clf = DecisionTreeClassifier(max_depth=8)\n",
    "dt_clf.fit(x_train_scale, y_train)"
   ]
  },
  {
   "cell_type": "code",
   "execution_count": null,
   "metadata": {},
   "outputs": [],
   "source": [
    "\n",
    "y_pred = dt_clf.predict(x_train_scale)\n",
    "y_pred_scores = cross_val_predict(dt_clf,x_train_scale,y_train,cv=5,\n",
    "                                method='predict_proba')\n",
    "proc_score(y_pred,y_pred_scores[:,1],y_train,train=True)\n",
    "\n",
    "y_pred = dt_clf.predict(x_test_scale)\n",
    "y_pred_scores = cross_val_predict(dt_clf,x_test_scale,y_test,cv=5,\n",
    "                                method='predict_proba')\n",
    "proc_score(y_pred,y_pred_scores[:,1],y_test,train=False)"
   ]
  },
  {
   "cell_type": "markdown",
   "metadata": {},
   "source": [
    "## 随机森林"
   ]
  },
  {
   "cell_type": "code",
   "execution_count": null,
   "metadata": {},
   "outputs": [],
   "source": [
    "rf_clf = RandomForestClassifier(n_estimators=1000,  # 也就是弱学习器的最大迭代次数，或者说最大的弱学习器的个数\n",
    "                                criterion='gini',  # criterion: 即CART树做划分时对特征的评价标准\n",
    "                                oob_score=True,  # oob_score :即是否采用袋外样本来评估模型的好坏\n",
    "                                random_state=random_state,\n",
    "                                verbose=0, \n",
    "                                n_jobs=-1\n",
    "                               )\n",
    "rf_clf.fit(x_train_scale, y_train)\n",
    "rf_clf.oob_score_"
   ]
  },
  {
   "cell_type": "code",
   "execution_count": null,
   "metadata": {},
   "outputs": [],
   "source": [
    "y_pred = rf_clf.predict(x_train_scale)\n",
    "y_pred_scores = cross_val_predict(rf_clf,x_train_scale,y_train,cv=5,\n",
    "                                method='predict_proba')\n",
    "proc_score(y_pred,y_pred_scores[:,1],y_train,train=True)\n",
    "\n",
    "y_pred = rf_clf.predict(x_test_scale)\n",
    "y_pred_scores = cross_val_predict(rf_clf,x_test_scale,y_test,cv=5,\n",
    "                                method='predict_proba')\n",
    "proc_score(y_pred,y_pred_scores[:,1],y_test,train=False)"
   ]
  },
  {
   "cell_type": "markdown",
   "metadata": {},
   "source": [
    "## XGBoost"
   ]
  },
  {
   "cell_type": "code",
   "execution_count": null,
   "metadata": {},
   "outputs": [],
   "source": [
    "from xgboost import XGBClassifier\n",
    "xgb = XGBClassifier()\n",
    "xgb.fit(x_train_scale, y_train)"
   ]
  },
  {
   "cell_type": "code",
   "execution_count": null,
   "metadata": {},
   "outputs": [],
   "source": [
    "y_pred = xgb.predict(x_train_scale)\n",
    "y_pred_scores = cross_val_predict(xgb,x_train_scale,y_train,cv=5,\n",
    "                                method='predict_proba')\n",
    "proc_score(y_pred,y_pred_scores[:,1],y_train,train=True)\n",
    "\n",
    "y_pred = xgb.predict(x_test_scale)\n",
    "y_pred_scores = cross_val_predict(xgb,x_test_scale,y_test,cv=5,\n",
    "                                method='predict_proba')\n",
    "proc_score(y_pred,y_pred_scores[:,1],y_test,train=False)"
   ]
  },
  {
   "cell_type": "markdown",
   "metadata": {},
   "source": [
    "## 对个模型进行比较"
   ]
  },
  {
   "cell_type": "code",
   "execution_count": null,
   "metadata": {},
   "outputs": [],
   "source": [
    "model_name = ['Logistic', 'SVM', 'DecisionTree', 'RandomForest', 'XGBoost']\n",
    "columns = ['accuracy_score', 'precision_score', 'recall_score', 'f1_score', 'roc_auc_score']\n",
    "types = ['train', 'test']\n",
    "pd_list = []\n",
    "for train,test in zip(model_score_train,model_score_test):\n",
    "    pd_list.append(pd.DataFrame([train,test],index=types,columns=columns))\n",
    "    \n",
    "pd.concat(pd_list,axis=0,keys=model_name) "
   ]
  },
  {
   "cell_type": "code",
   "execution_count": null,
   "metadata": {},
   "outputs": [],
   "source": [
    "\n",
    "# 绘制ROC取下对比图\n",
    "def plot_roc_curve(fpr,tpr,label=None):\n",
    "    plt.plot(fpr,tpr,linewidth=2,label=label)\n",
    "    plt.plot([0,1],[0,1],'k--')\n",
    "\n",
    "for score,label in zip(decision_score_test,['Logistic','SVM','DecisionTree','RandomForest','xgboost']):\n",
    "    fpr,tpr,threshold = roc_curve(y_test,score)\n",
    "    plot_roc_curve(fpr,tpr,label)\n",
    "plt.rcParams['figure.figsize'] = (8,5)    \n",
    "plt.axis([0,1,0,1])\n",
    "plt.xlabel('False Position Rate')\n",
    "plt.ylabel('False Position Rate')\n",
    "plt.legend()\n",
    "plt.show()"
   ]
  },
  {
   "cell_type": "code",
   "execution_count": null,
   "metadata": {},
   "outputs": [],
   "source": []
  }
 ],
 "metadata": {
  "kernelspec": {
   "display_name": "tf",
   "language": "python",
   "name": "tf"
  },
  "language_info": {
   "codemirror_mode": {
    "name": "ipython",
    "version": 3
   },
   "file_extension": ".py",
   "mimetype": "text/x-python",
   "name": "python",
   "nbconvert_exporter": "python",
   "pygments_lexer": "ipython3",
   "version": "3.6.8"
  }
 },
 "nbformat": 4,
 "nbformat_minor": 2
}
