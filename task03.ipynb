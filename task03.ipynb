{
 "cells": [
  {
   "cell_type": "markdown",
   "metadata": {},
   "source": [
    "## 数据挖掘实践任务\n",
    "任务描述\n",
    "\n",
    "- 用逻辑回归、svm和决策树、随机森林和XGBoost进行模型构建（不需考虑调参）"
   ]
  },
  {
   "cell_type": "code",
   "execution_count": 4,
   "metadata": {},
   "outputs": [
    {
     "name": "stdout",
     "output_type": "stream",
     "text": [
      "features shape:(4455, 50), labels shape:(4455,)\n"
     ]
    }
   ],
   "source": [
    "# 获取经过task02中特征选择处理过的数据集\n",
    "import pandas as pd\n",
    "dataset = pd.read_csv('./dataset/task2_proc.csv')\n",
    "features = dataset.iloc[:, :-1]\n",
    "labels = dataset.iloc[:, -1]\n",
    "print('features shape:{}, labels shape:{}'.format(features.shape, labels.shape))"
   ]
  },
  {
   "cell_type": "code",
   "execution_count": null,
   "metadata": {},
   "outputs": [],
   "source": [
    "# 数据拆分\n",
    "from sklearn.model_selection import train_test_split\n",
    "from sklearn.preprocessing import StandardScaler\n",
    "\n",
    "random_state = 2018\n"
   ]
  }
 ],
 "metadata": {
  "kernelspec": {
   "display_name": "tf",
   "language": "python",
   "name": "tf"
  },
  "language_info": {
   "codemirror_mode": {
    "name": "ipython",
    "version": 3
   },
   "file_extension": ".py",
   "mimetype": "text/x-python",
   "name": "python",
   "nbconvert_exporter": "python",
   "pygments_lexer": "ipython3",
   "version": "3.6.8"
  }
 },
 "nbformat": 4,
 "nbformat_minor": 2
}
